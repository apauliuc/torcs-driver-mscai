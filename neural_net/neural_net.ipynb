{
 "cells": [
  {
   "cell_type": "markdown",
   "metadata": {},
   "source": [
    "# LSTM implementation for TORCS driver"
   ]
  },
  {
   "cell_type": "code",
   "execution_count": 3,
   "metadata": {
    "collapsed": true
   },
   "outputs": [],
   "source": [
    "import numpy as np\n",
    "import pandas as pd\n",
    "import torch\n",
    "import torch.nn as nn\n",
    "from torch.autograd import Variable\n",
    "import torch.utils.data"
   ]
  },
  {
   "cell_type": "markdown",
   "metadata": {},
   "source": [
    "## LSTM Network"
   ]
  },
  {
   "cell_type": "code",
   "execution_count": 9,
   "metadata": {
    "collapsed": true
   },
   "outputs": [],
   "source": [
    "class RNN(nn.Module):\n",
    "    def __init__(self, input_size, hidden_size, num_layers, output_size, batch_size):\n",
    "        self.num_layers = num_layers\n",
    "        self.hidden_size = hidden_size\n",
    "        self.batch_size = batch_size\n",
    "        \n",
    "        super(RNN, self).__init__()        \n",
    "        self.lstm = nn.LSTM(\n",
    "            input_size=input_size,\n",
    "            hidden_size=hidden_size,\n",
    "            num_layers=num_layers,\n",
    "            batch_first=True\n",
    "        )\n",
    "        self.out = nn.Linear(hidden_size, output_size)        \n",
    "        self.hidden = self.init_hidden()\n",
    "        \n",
    "    def init_hidden(self, x=None):\n",
    "        if x == None:\n",
    "            return (Variable(torch.zeros(self.num_layers, self.batch_size, self.hidden_size)),\n",
    "                    Variable(torch.zeros(self.num_layers, self.batch_size, self.hidden_size)))\n",
    "        else:\n",
    "            return (Variable(x[0].data),Variable(x[1].data))\n",
    "        \n",
    "    def forward(self, x):\n",
    "        lstm_out, self.hidden_out = self.lstm(x, self.hidden)\n",
    "        output = self.out(lstm_out.view(len(x), -1))\n",
    "        self.hidden = self.init_hidden(self.hidden_out)\n",
    "        return output"
   ]
  },
  {
   "cell_type": "code",
   "execution_count": 10,
   "metadata": {
    "collapsed": true
   },
   "outputs": [],
   "source": [
    "INPUT_SIZE = 22\n",
    "HIDDEN_SIZE = 100\n",
    "NUM_LAYERS = 2\n",
    "BATCH_SIZE = 100\n",
    "NUM_EPOCHS = 15\n",
    "LEARNING_RATE = 0.001\n",
    "\n",
    "rnn = RNN(INPUT_SIZE, HIDDEN_SIZE, NUM_LAYERS, 3, BATCH_SIZE)\n",
    "\n",
    "optimizer = torch.optim.Adam(rnn.parameters(), lr=LEARNING_RATE)\n",
    "criterion = nn.MSELoss()"
   ]
  },
  {
   "cell_type": "markdown",
   "metadata": {},
   "source": [
    "## Train network"
   ]
  },
  {
   "cell_type": "code",
   "execution_count": 11,
   "metadata": {
    "collapsed": true
   },
   "outputs": [],
   "source": [
    "filenames = ['train_data/aalborg.csv', 'train_data/alpine-1.csv', 'train_data/f-speedway.csv']\n",
    "X_train = None\n",
    "y_train = None\n",
    "\n",
    "for file in filenames:\n",
    "    dataset = pd.read_csv(file)\n",
    "    \n",
    "    X = dataset.iloc[:, 3:].values\n",
    "    y = dataset.iloc[:, :3].values\n",
    "    \n",
    "    X_train = X if X_train is None else np.concatenate((X_train, X))\n",
    "    y_train = y if y_train is None else np.concatenate((y_train, y))\n",
    "        \n",
    "from sklearn.preprocessing import Imputer\n",
    "imputer = Imputer(missing_values='NaN', strategy='mean', axis=0)\n",
    "imputer = imputer.fit(X_train)\n",
    "X_train = imputer.transform(X_train)\n",
    "\n",
    "X_train = torch.from_numpy(X_train)\n",
    "X_train = X_train.float()\n",
    "y_train = torch.from_numpy(y_train)\n",
    "y_train = y_train.float()\n",
    "\n",
    "ds = torch.utils.data.TensorDataset(X_train, y_train)\n",
    "\n",
    "train_loader = torch.utils.data.DataLoader(dataset=ds,\n",
    "                                           batch_size=BATCH_SIZE,\n",
    "                                           shuffle=True)"
   ]
  },
  {
   "cell_type": "code",
   "execution_count": 12,
   "metadata": {},
   "outputs": [
    {
     "name": "stdout",
     "output_type": "stream",
     "text": [
      "Epoch [1/15], Step [100/240], Loss: 0.0426\n",
      "Epoch [1/15], Step [200/240], Loss: 0.0358\n",
      "Epoch [2/15], Step [100/240], Loss: 0.0307\n",
      "Epoch [2/15], Step [200/240], Loss: 0.0506\n",
      "Epoch [3/15], Step [100/240], Loss: 0.0474\n",
      "Epoch [3/15], Step [200/240], Loss: 0.0451\n",
      "Epoch [4/15], Step [100/240], Loss: 0.0199\n",
      "Epoch [4/15], Step [200/240], Loss: 0.0327\n",
      "Epoch [5/15], Step [100/240], Loss: 0.0386\n",
      "Epoch [5/15], Step [200/240], Loss: 0.0232\n",
      "Epoch [6/15], Step [100/240], Loss: 0.0350\n",
      "Epoch [6/15], Step [200/240], Loss: 0.0238\n",
      "Epoch [7/15], Step [100/240], Loss: 0.0223\n",
      "Epoch [7/15], Step [200/240], Loss: 0.0286\n",
      "Epoch [8/15], Step [100/240], Loss: 0.0202\n",
      "Epoch [8/15], Step [200/240], Loss: 0.0170\n",
      "Epoch [9/15], Step [100/240], Loss: 0.0428\n",
      "Epoch [9/15], Step [200/240], Loss: 0.0307\n",
      "Epoch [10/15], Step [100/240], Loss: 0.0188\n",
      "Epoch [10/15], Step [200/240], Loss: 0.0269\n",
      "Epoch [11/15], Step [100/240], Loss: 0.0155\n",
      "Epoch [11/15], Step [200/240], Loss: 0.0249\n",
      "Epoch [12/15], Step [100/240], Loss: 0.0239\n",
      "Epoch [12/15], Step [200/240], Loss: 0.0237\n",
      "Epoch [13/15], Step [100/240], Loss: 0.0291\n",
      "Epoch [13/15], Step [200/240], Loss: 0.0189\n",
      "Epoch [14/15], Step [100/240], Loss: 0.0294\n",
      "Epoch [14/15], Step [200/240], Loss: 0.0240\n",
      "Epoch [15/15], Step [100/240], Loss: 0.0212\n",
      "Epoch [15/15], Step [200/240], Loss: 0.0200\n",
      "Training done\n"
     ]
    }
   ],
   "source": [
    "for epoch in range(NUM_EPOCHS):\n",
    "    for i, (X, y) in enumerate(train_loader):\n",
    "        if (len(X) != BATCH_SIZE):\n",
    "            continue\n",
    "        \n",
    "        params = Variable(X.view(-1, 1, INPUT_SIZE))\n",
    "        command = Variable(y)\n",
    "\n",
    "        optimizer.zero_grad()\n",
    "        prediction = rnn(params)\n",
    "        loss = criterion(prediction, command)\n",
    "        loss.backward()\n",
    "        optimizer.step()\n",
    "        \n",
    "        if (i+1) % 100 == 0:\n",
    "            print ('Epoch [%d/%d], Step [%d/%d], Loss: %.4f' \n",
    "                   %(epoch+1, NUM_EPOCHS, i+1, len(X_train)//100, loss.data[0]))\n",
    "\n",
    "print('Training done')"
   ]
  },
  {
   "cell_type": "code",
   "execution_count": 13,
   "metadata": {
    "collapsed": true
   },
   "outputs": [],
   "source": [
    "torch.save(rnn.state_dict(), 'rnn_params.pt')"
   ]
  },
  {
   "cell_type": "code",
   "execution_count": 14,
   "metadata": {},
   "outputs": [
    {
     "name": "stderr",
     "output_type": "stream",
     "text": [
      "/usr/local/miniconda3/lib/python3.6/site-packages/torch/serialization.py:147: UserWarning: Couldn't retrieve source code for container of type RNN. It won't be checked for correctness upon loading.\n",
      "  \"type \" + obj.__name__ + \". It won't be checked \"\n"
     ]
    }
   ],
   "source": [
    "torch.save(rnn, 'whole_net.pt')"
   ]
  }
 ],
 "metadata": {
  "kernelspec": {
   "display_name": "Python 3",
   "language": "python",
   "name": "python3"
  },
  "language_info": {
   "codemirror_mode": {
    "name": "ipython",
    "version": 3
   },
   "file_extension": ".py",
   "mimetype": "text/x-python",
   "name": "python",
   "nbconvert_exporter": "python",
   "pygments_lexer": "ipython3",
   "version": "3.6.3"
  }
 },
 "nbformat": 4,
 "nbformat_minor": 2
}
