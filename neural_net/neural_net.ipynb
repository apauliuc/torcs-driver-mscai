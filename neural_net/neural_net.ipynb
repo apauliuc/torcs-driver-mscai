{
 "cells": [
  {
   "cell_type": "code",
   "execution_count": 1,
   "metadata": {},
   "outputs": [],
   "source": [
    "import numpy as np\n",
    "import pandas as pd\n",
    "import torch\n",
    "import torch.nn as nn\n",
    "from torch.autograd import Variable\n",
    "import torch.utils.data"
   ]
  },
  {
   "cell_type": "code",
   "execution_count": 4,
   "metadata": {},
   "outputs": [],
   "source": [
    "# Hyper-parameters\n",
    "# SEQ_LENGTH = 10\n",
    "INPUT_SIZE = 22\n",
    "HIDDEN_SIZE = 200\n",
    "NUM_LAYERS = 6\n",
    "BATCH_SIZE = 100\n",
    "NUM_EPOCHS = 15\n",
    "LEARNING_RATE = 0.001"
   ]
  },
  {
   "cell_type": "code",
   "execution_count": 5,
   "metadata": {},
   "outputs": [],
   "source": [
    "class RNN(nn.Module):\n",
    "    def __init__(self):\n",
    "        super(RNN, self).__init__()\n",
    "        \n",
    "        self.hidden_size = HIDDEN_SIZE\n",
    "        self.num_layers = NUM_LAYERS\n",
    "        \n",
    "        self.lstm = nn.LSTM(\n",
    "            input_size=INPUT_SIZE,\n",
    "            hidden_size=HIDDEN_SIZE,\n",
    "            num_layers=NUM_LAYERS,\n",
    "            batch_first=True\n",
    "        )\n",
    "        self.fc = nn.Linear(HIDDEN_SIZE, 3)\n",
    "    \n",
    "    def forward(self, x):\n",
    "        h0 = Variable(torch.zeros(self.num_layers, x.size(0), self.hidden_size))\n",
    "        c0 = Variable(torch.zeros(self.num_layers, x.size(0), self.hidden_size))\n",
    "        \n",
    "        out, _ = self.lstm(x, (h0, c0))\n",
    "        \n",
    "        out = self.fc(out[:, -1, :])\n",
    "        return out"
   ]
  },
  {
   "cell_type": "code",
   "execution_count": 6,
   "metadata": {},
   "outputs": [],
   "source": [
    "rnn = RNN()"
   ]
  },
  {
   "cell_type": "code",
   "execution_count": 7,
   "metadata": {},
   "outputs": [],
   "source": [
    "criterion = nn.MSELoss()\n",
    "optimizer = torch.optim.Adam(rnn.parameters(), lr=LEARNING_RATE)"
   ]
  },
  {
   "cell_type": "code",
   "execution_count": 8,
   "metadata": {},
   "outputs": [],
   "source": [
    "filenames = ['train_data/aalborg.csv', 'train_data/alpine-1.csv', 'train_data/f-speedway.csv']\n",
    "X_train = None\n",
    "y_train = None\n",
    "\n",
    "for file in filenames:\n",
    "    dataset = pd.read_csv(file)\n",
    "    \n",
    "    X = dataset.iloc[:, 3:].values\n",
    "    y = dataset.iloc[:, :3].values\n",
    "    \n",
    "    if X_train is None:\n",
    "        X_train = X\n",
    "        y_train = y\n",
    "    else:\n",
    "        X_train = np.concatenate((X_train, X))\n",
    "        y_train = np.concatenate((y_train, y))\n",
    "        \n",
    "from sklearn.preprocessing import Imputer\n",
    "imputer = Imputer(missing_values='NaN', strategy='mean', axis=0)\n",
    "imputer = imputer.fit(X_train)\n",
    "X_train = imputer.transform(X_train)"
   ]
  },
  {
   "cell_type": "code",
   "execution_count": 9,
   "metadata": {},
   "outputs": [],
   "source": [
    "X_train = torch.from_numpy(X_train)\n",
    "X_train = X_train.float()\n",
    "y_train = torch.from_numpy(y_train)\n",
    "y_train = y_train.float()\n",
    "\n",
    "ds = torch.utils.data.TensorDataset(X_train, y_train)\n",
    "\n",
    "train_loader = torch.utils.data.DataLoader(dataset=ds,\n",
    "                                           batch_size=BATCH_SIZE, \n",
    "                                           shuffle=True)"
   ]
  },
  {
   "cell_type": "code",
   "execution_count": 10,
   "metadata": {
    "scrolled": false
   },
   "outputs": [
    {
     "name": "stdout",
     "output_type": "stream",
     "text": [
      "Epoch [1/15], Step [100/240], Loss: 0.0832\n",
      "Epoch [1/15], Step [200/240], Loss: 0.0470\n",
      "Epoch [2/15], Step [100/240], Loss: 0.0303\n",
      "Epoch [2/15], Step [200/240], Loss: 0.0240\n",
      "Epoch [3/15], Step [100/240], Loss: 0.0434\n",
      "Epoch [3/15], Step [200/240], Loss: 0.0198\n",
      "Epoch [4/15], Step [100/240], Loss: 0.0466\n",
      "Epoch [4/15], Step [200/240], Loss: 0.0275\n",
      "Epoch [5/15], Step [100/240], Loss: 0.0421\n",
      "Epoch [5/15], Step [200/240], Loss: 0.0117\n",
      "Epoch [6/15], Step [100/240], Loss: 0.0210\n",
      "Epoch [6/15], Step [200/240], Loss: 0.0247\n",
      "Epoch [7/15], Step [100/240], Loss: 0.0331\n",
      "Epoch [7/15], Step [200/240], Loss: 0.0207\n",
      "Epoch [8/15], Step [100/240], Loss: 0.0205\n",
      "Epoch [8/15], Step [200/240], Loss: 0.0668\n",
      "Epoch [9/15], Step [100/240], Loss: 0.0306\n",
      "Epoch [9/15], Step [200/240], Loss: 0.0376\n",
      "Epoch [10/15], Step [100/240], Loss: 0.0352\n",
      "Epoch [10/15], Step [200/240], Loss: 0.0331\n",
      "Epoch [11/15], Step [100/240], Loss: 0.0183\n",
      "Epoch [11/15], Step [200/240], Loss: 0.0294\n",
      "Epoch [12/15], Step [100/240], Loss: 0.0350\n",
      "Epoch [12/15], Step [200/240], Loss: 0.0131\n",
      "Epoch [13/15], Step [100/240], Loss: 0.0090\n",
      "Epoch [13/15], Step [200/240], Loss: 0.0162\n",
      "Epoch [14/15], Step [100/240], Loss: 0.0200\n",
      "Epoch [14/15], Step [200/240], Loss: 0.0327\n",
      "Epoch [15/15], Step [100/240], Loss: 0.0115\n",
      "Epoch [15/15], Step [200/240], Loss: 0.0188\n"
     ]
    }
   ],
   "source": [
    "for epoch in range(NUM_EPOCHS):\n",
    "    for i, (X, y) in enumerate(train_loader):\n",
    "        params = Variable(X.view(-1, 1, INPUT_SIZE))\n",
    "        command = Variable(y)\n",
    "                \n",
    "        optimizer.zero_grad()\n",
    "        outputs = rnn(params)\n",
    "        loss = criterion(outputs, command)\n",
    "        loss.backward()\n",
    "        optimizer.step()\n",
    "        \n",
    "        if (i+1) % 100 == 0:\n",
    "            print ('Epoch [%d/%d], Step [%d/%d], Loss: %.4f' \n",
    "                   %(epoch+1, NUM_EPOCHS, i+1, len(X_train)//100, loss.data[0]))"
   ]
  },
  {
   "cell_type": "code",
   "execution_count": 11,
   "metadata": {},
   "outputs": [],
   "source": [
    "torch.save(rnn.state_dict(), 'rnn_params.pt')"
   ]
  },
  {
   "cell_type": "code",
   "execution_count": 12,
   "metadata": {},
   "outputs": [
    {
     "name": "stderr",
     "output_type": "stream",
     "text": [
      "/usr/local/miniconda3/lib/python3.6/site-packages/torch/serialization.py:147: UserWarning: Couldn't retrieve source code for container of type RNN. It won't be checked for correctness upon loading.\n",
      "  \"type \" + obj.__name__ + \". It won't be checked \"\n"
     ]
    }
   ],
   "source": [
    "torch.save(rnn, 'whole_net.pt')"
   ]
  },
  {
   "cell_type": "code",
   "execution_count": 19,
   "metadata": {
    "scrolled": false
   },
   "outputs": [
    {
     "data": {
      "text/plain": [
       "\n",
       "  -0.0380   -0.0001    0.0004  ...     5.3198    5.0765    4.9997\n",
       "  -0.0380   -0.0001    0.0004  ...     5.3198    5.0765    4.9997\n",
       "  -0.0380   -0.0001    0.0004  ...     5.3198    5.0765    4.9997\n",
       "             ...                ⋱                ...             \n",
       " 290.8040   -0.0476   -0.0141  ...    15.2831   14.5443   14.2878\n",
       " 290.8360   -0.0459   -0.0143  ...    15.3119   14.5711   14.3136\n",
       " 290.8680   -0.0441   -0.0145  ...     7.5776    7.2365    7.1239\n",
       "[torch.FloatTensor of size 24024x22]"
      ]
     },
     "execution_count": 19,
     "metadata": {},
     "output_type": "execute_result"
    }
   ],
   "source": [
    "ds.data_tensor"
   ]
  }
 ],
 "metadata": {
  "kernelspec": {
   "display_name": "Python 3",
   "language": "python",
   "name": "python3"
  },
  "language_info": {
   "codemirror_mode": {
    "name": "ipython",
    "version": 3
   },
   "file_extension": ".py",
   "mimetype": "text/x-python",
   "name": "python",
   "nbconvert_exporter": "python",
   "pygments_lexer": "ipython3",
   "version": "3.6.3"
  }
 },
 "nbformat": 4,
 "nbformat_minor": 2
}
