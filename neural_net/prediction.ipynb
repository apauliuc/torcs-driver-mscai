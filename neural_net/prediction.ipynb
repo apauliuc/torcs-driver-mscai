{
 "cells": [
  {
   "cell_type": "code",
   "execution_count": 1,
   "metadata": {},
   "outputs": [],
   "source": [
    "import numpy as np\n",
    "import pandas as pd\n",
    "import torch\n",
    "import torch.nn as nn\n",
    "from torch.autograd import Variable\n",
    "import torch.utils.data"
   ]
  },
  {
   "cell_type": "code",
   "execution_count": 3,
   "metadata": {},
   "outputs": [],
   "source": [
    "class RNN(nn.Module):\n",
    "    def __init__(self, input_size, hidden_size, num_layers, output_size):\n",
    "        self.num_layers = num_layers\n",
    "        self.hidden_size = hidden_size\n",
    "        \n",
    "        super(RNN, self).__init__()        \n",
    "        self.lstm = nn.LSTM(\n",
    "            input_size=input_size,\n",
    "            hidden_size=hidden_size,\n",
    "            num_layers=num_layers,\n",
    "            batch_first=False\n",
    "        )\n",
    "        self.out = nn.Linear(hidden_size, output_size)        \n",
    "        self.hidden = self.init_hidden()\n",
    "        \n",
    "    def init_hidden(self, x=None):\n",
    "        if x == None:\n",
    "            return (Variable(torch.zeros(self.num_layers, 1, self.hidden_size)),\n",
    "                    Variable(torch.zeros(self.num_layers, 1, self.hidden_size)))\n",
    "        else:\n",
    "            return (Variable(x[0].data),Variable(x[1].data))\n",
    "        \n",
    "    def forward(self, x):\n",
    "        lstm_out, self.hidden_out = self.lstm(x, self.hidden)\n",
    "        output = self.out(lstm_out.view(len(x), -1))\n",
    "        self.hidden = self.init_hidden(self.hidden_out)\n",
    "        return output"
   ]
  },
  {
   "cell_type": "code",
   "execution_count": 4,
   "metadata": {},
   "outputs": [],
   "source": [
    "INPUT_SIZE = 22\n",
    "HIDDEN_SIZE = 100\n",
    "NUM_LAYERS = 2\n",
    "NUM_EPOCHS = 15\n",
    "LEARNING_RATE = 0.001\n",
    "rnn = RNN(INPUT_SIZE, HIDDEN_SIZE, NUM_LAYERS, 3)\n",
    "rnn.load_state_dict(torch.load('rnn_params.pt'))"
   ]
  },
  {
   "cell_type": "code",
   "execution_count": 5,
   "metadata": {},
   "outputs": [],
   "source": [
    "dataset = pd.read_csv('train_data/f-speedway.csv', dtype=float)\n",
    "X = dataset.iloc[0, 3:].values"
   ]
  },
  {
   "cell_type": "code",
   "execution_count": 6,
   "metadata": {},
   "outputs": [],
   "source": [
    "X = torch.from_numpy(X).float()"
   ]
  },
  {
   "cell_type": "code",
   "execution_count": 14,
   "metadata": {},
   "outputs": [],
   "source": [
    "params = Variable(X.view(-1, 1, INPUT_SIZE))\n",
    "o = rnn(params)"
   ]
  },
  {
   "cell_type": "code",
   "execution_count": 15,
   "metadata": {},
   "outputs": [
    {
     "data": {
      "text/plain": [
       "Variable containing:\n",
       " 0.6494 -0.1557  0.0669\n",
       "[torch.FloatTensor of size 1x3]"
      ]
     },
     "execution_count": 15,
     "metadata": {},
     "output_type": "execute_result"
    }
   ],
   "source": [
    "o"
   ]
  }
 ],
 "metadata": {
  "kernelspec": {
   "display_name": "Python 3",
   "language": "python",
   "name": "python3"
  },
  "language_info": {
   "codemirror_mode": {
    "name": "ipython",
    "version": 3
   },
   "file_extension": ".py",
   "mimetype": "text/x-python",
   "name": "python",
   "nbconvert_exporter": "python",
   "pygments_lexer": "ipython3",
   "version": "3.6.3"
  }
 },
 "nbformat": 4,
 "nbformat_minor": 2
}
