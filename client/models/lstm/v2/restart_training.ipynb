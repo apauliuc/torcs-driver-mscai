{
 "cells": [
  {
   "cell_type": "code",
   "execution_count": 2,
   "metadata": {
    "collapsed": true
   },
   "outputs": [],
   "source": [
    "import torch\n",
    "import torch.autograd as autograd\n",
    "import torch.nn as nn\n",
    "import torch.optim as optim\n",
    "import torch.optim.lr_scheduler as lr_scheduler\n",
    "\n",
    "import numpy as np\n",
    "import pandas as pd\n",
    "import math\n",
    "import glob\n",
    "\n",
    "from model import LSTMDriver\n",
    "from model import HYPERPARAMS\n",
    "\n",
    "import logging\n",
    "logging.basicConfig(filename='retraining.log',level=logging.DEBUG)"
   ]
  },
  {
   "cell_type": "code",
   "execution_count": 3,
   "metadata": {
    "collapsed": true
   },
   "outputs": [],
   "source": [
    "PROJECT_ROOT = '../../../..'\n",
    "LEARNED_DRIVER = 'snakeoil_miner/data'\n",
    "DIFFICULTY = 'easy'\n",
    "\n",
    "\n",
    "TRAINING_FILES = glob.glob('/'.join([PROJECT_ROOT, LEARNED_DRIVER, DIFFICULTY, '*.csv']))\n",
    "TRAINING_DATA = {}\n",
    "for FILE in TRAINING_FILES:\n",
    "    DF = pd.read_csv(FILE, index_col=False)\n",
    "    TRAINING_DATA[FILE] = DF.values\n",
    "\n",
    "VALIDATION_FILES = glob.glob('/'.join([PROJECT_ROOT, LEARNED_DRIVER, 'validation', '*.csv']))\n",
    "VALIDATION_DATA = {}\n",
    "for FILE in VALIDATION_FILES:\n",
    "    DF = pd.read_csv(FILE, index_col=False)\n",
    "    VALIDATION_DATA[FILE] = DF.values\n",
    "    \n",
    "CUDA = torch.cuda.is_available()\n",
    "if CUDA:\n",
    "    DTYPE = torch.cuda.FloatTensor\n",
    "else:\n",
    "    DTYPE = torch.FloatTensor"
   ]
  },
  {
   "cell_type": "code",
   "execution_count": 4,
   "metadata": {
    "collapsed": true
   },
   "outputs": [],
   "source": [
    "def save_checkpoint(state, is_best, filepath='latest_checkpoint.pth.tar'):\n",
    "    torch.save(state, 'checkpoints/' + filepath)\n",
    "    if is_best:\n",
    "        torch.save(state, 'checkpoints/best_checkpoint.pth.tar')"
   ]
  },
  {
   "cell_type": "code",
   "execution_count": null,
   "metadata": {
    "collapsed": true
   },
   "outputs": [],
   "source": [
    "def train(training_data, model, criterion, optimzier):\n",
    "    loss = 0\n",
    "    model.train(mode=True)\n",
    "    for key in training_data:\n",
    "        logging.info('--- Parsing track {}-{}'.format(key.split('/')[-2], key.split('/')[-1]))\n",
    "        print('--- Parsing track {}-{}'.format(key.split('/')[-2], key.split('/')[-1]))\n",
    "        \n",
    "        model.hidden_state = model.init_hidden()\n",
    "        optimizer.zero_grad()\n",
    "        track_sequence = training_data[key]\n",
    "\n",
    "        targets = track_sequence[:, 0:3]\n",
    "        inputs = track_sequence[:, 3:]\n",
    "\n",
    "        targets_variable = autograd.Variable(torch.Tensor(targets)).type(DTYPE)\n",
    "        inputs_variable = autograd.Variable(torch.Tensor(inputs),  requires_grad=True).type(DTYPE)\n",
    "\n",
    "        outputs_variable = model(inputs_variable)\n",
    "\n",
    "        track_loss = criterion(outputs_variable, targets_variable)\n",
    "\n",
    "        track_loss.backward()\n",
    "        optimizer.step()\n",
    "\n",
    "        loss += track_loss.data[0]\n",
    "    return loss"
   ]
  },
  {
   "cell_type": "code",
   "execution_count": null,
   "metadata": {
    "collapsed": true
   },
   "outputs": [],
   "source": [
    "def validate(validation_data, model, criterion):\n",
    "    loss = 0\n",
    "    model.train(mode=False)\n",
    "    for key in validation_data:\n",
    "        logging.info('--- Parsing track {}-{}'.format(key.split('/')[-2], key.split('/')[-1]))\n",
    "        print('--- Parsing track {}-{}'.format(key.split('/')[-2], key.split('/')[-1]))\n",
    "        \n",
    "        model.hidden_state = model.init_hidden()\n",
    "        track_sequence = validation_data[key]\n",
    "\n",
    "        targets = track_sequence[:, 0:3]\n",
    "        inputs = track_sequence[:, 3:]\n",
    "\n",
    "        targets_variable = autograd.Variable(torch.Tensor(targets), volatile=True).type(DTYPE)\n",
    "        inputs_variable = autograd.Variable(torch.Tensor(inputs), volatile=True).type(DTYPE)\n",
    "\n",
    "        outputs_variable = model(inputs_variable)\n",
    "\n",
    "        track_loss = criterion(outputs_variable, targets_variable)\n",
    "\n",
    "        loss += track_loss.data[0]\n",
    "    return loss"
   ]
  },
  {
   "cell_type": "code",
   "execution_count": null,
   "metadata": {
    "collapsed": true
   },
   "outputs": [],
   "source": [
    "checkpoint = torch.load('checkpoints/latest_checkpoint.pth.tar')\n",
    "if CUDA:\n",
    "    model = LSTMDriver(HYPERPARAMS.INPUT_SIZE,\n",
    "                       HYPERPARAMS.LSTM_HIDDEN_SIZE,\n",
    "                       HYPERPARAMS.HIDDEN_LAYER_SIZE,\n",
    "                       HYPERPARAMS.DROPOUT_PROB,\n",
    "                       HYPERPARAMS.NUM_LAYERS,\n",
    "                       HYPERPARAMS.TARGET_SIZE,\n",
    "                       HYPERPARAMS.BATCH_SIZE).cuda()\n",
    "    criterion = nn.MSELoss().cuda()\n",
    "else:\n",
    "    model = LSTMDriver(HYPERPARAMS.INPUT_SIZE,\n",
    "                       HYPERPARAMS.LSTM_HIDDEN_SIZE,\n",
    "                       HYPERPARAMS.HIDDEN_LAYER_SIZE,\n",
    "                       HYPERPARAMS.DROPOUT_PROB,\n",
    "                       HYPERPARAMS.NUM_LAYERS,\n",
    "                       HYPERPARAMS.TARGET_SIZE,\n",
    "                       HYPERPARAMS.BATCH_SIZE)\n",
    "    criterion = nn.MSELoss()\n",
    "\n",
    "optimizer = optim.Adam(model.parameters(), lr=HYPERPARAMS.LEARNING_RATE)\n",
    "scheduler = lr_scheduler.ReduceLROnPlateau(optimizer, mode='min', verbose=True)\n",
    "\n",
    "model.load_state_dict(checkpoint['state_dict'])\n",
    "optimizer.load_state_dict(checkpoint['optimizer'])\n",
    "min_loss = checkpoint['min_loss']\n",
    "losses = {\n",
    "  'training': [],\n",
    "  'validation': []\n",
    "}\n",
    "\n",
    "for epoch in np.arange(checkpoint['epoch'], HYPERPARAMS.NUM_EPOCHS):\n",
    "    logging.info('Epoch [%d/%d]' %(epoch+1, HYPERPARAMS.NUM_EPOCHS))\n",
    "    print('Epoch [%d/%d]' %(epoch+1, HYPERPARAMS.NUM_EPOCHS))\n",
    "    \n",
    "    is_best = False\n",
    "\n",
    "    training_loss = train(TRAINING_DATA, model, criterion, optimizer)\n",
    "    logging.info('--- TRAINING LOSS: %f' % training_loss)\n",
    "    print('--- TRAINING LOSS: %f' % training_loss)\n",
    "\n",
    "    validation_loss = validate(VALIDATION_DATA, model, criterion)\n",
    "    logging.info('--- VALIDATION LOSS: %f' % validation_loss)\n",
    "    print('--- VALIDATION LOSS: %f' % validation_loss)\n",
    "\n",
    "    if validation_loss < min_loss:\n",
    "        logging.info('--- --- best model found so far: %f' % validation_loss)\n",
    "        print('--- --- best model found so far: %f' % validation_loss)\n",
    "        min_loss = validation_loss\n",
    "        is_best = True\n",
    "\n",
    "    losses['training'].append(training_loss)\n",
    "    losses['validation'].append(validation_loss)\n",
    "\n",
    "    save_checkpoint({\n",
    "          'epoch': epoch + 1,\n",
    "          'state_dict': model.state_dict(),\n",
    "          'min_loss': min_loss,\n",
    "          'optimizer' : optimizer.state_dict(),\n",
    "      }, is_best)\n",
    "\n",
    "    scheduler.step(validation_loss)\n",
    "    logging.info('-------------------------------------------------------')\n",
    "    print('-------------------------------------------------------')"
   ]
  }
 ],
 "metadata": {
  "kernelspec": {
   "display_name": "Python 3",
   "language": "python",
   "name": "python3"
  },
  "language_info": {
   "codemirror_mode": {
    "name": "ipython",
    "version": 3
   },
   "file_extension": ".py",
   "mimetype": "text/x-python",
   "name": "python",
   "nbconvert_exporter": "python",
   "pygments_lexer": "ipython3",
   "version": "3.5.2"
  }
 },
 "nbformat": 4,
 "nbformat_minor": 2
}
