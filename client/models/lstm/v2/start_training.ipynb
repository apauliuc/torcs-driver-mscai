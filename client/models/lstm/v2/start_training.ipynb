{
 "cells": [
  {
   "cell_type": "code",
   "execution_count": 6,
   "metadata": {
    "collapsed": false
   },
   "outputs": [
    {
     "data": {
      "text/html": [
       "\n",
       "          <script src=\"/static/components/requirejs/require.js\"></script>\n",
       "          <script>\n",
       "            requirejs.config({\n",
       "              paths: {\n",
       "                base: '/static/base',\n",
       "              },\n",
       "            });\n",
       "          </script>\n",
       "          "
      ],
      "text/plain": [
       "<IPython.core.display.HTML object>"
      ]
     },
     "metadata": {},
     "output_type": "display_data"
    }
   ],
   "source": [
    "import torch\n",
    "import torch.autograd as autograd\n",
    "import torch.nn as nn\n",
    "import torch.optim as optim\n",
    "import torch.optim.lr_scheduler as lr_scheduler\n",
    "import pandas as pd\n",
    "import numpy as np\n",
    "import collections\n",
    "import json\n",
    "import math\n",
    "import glob\n",
    "\n",
    "import logging\n",
    "logging.basicConfig(filename='training.log',level=logging.DEBUG)"
   ]
  },
  {
   "cell_type": "code",
   "execution_count": 7,
   "metadata": {
    "collapsed": false
   },
   "outputs": [
    {
     "data": {
      "text/html": [
       "\n",
       "          <script src=\"/static/components/requirejs/require.js\"></script>\n",
       "          <script>\n",
       "            requirejs.config({\n",
       "              paths: {\n",
       "                base: '/static/base',\n",
       "              },\n",
       "            });\n",
       "          </script>\n",
       "          "
      ],
      "text/plain": [
       "<IPython.core.display.HTML object>"
      ]
     },
     "metadata": {},
     "output_type": "display_data"
    }
   ],
   "source": [
    "training_files = glob.glob('training_data/oval/*.csv')\n",
    "training_data = {}\n",
    "\n",
    "for training_file in training_files:\n",
    "    df = pd.read_csv(training_file, index_col=False)\n",
    "    training_data[training_file] = df.values\n",
    "\n",
    "TARGET_SIZE = 3\n",
    "INPUT_SIZE = 22\n",
    "HIDDEN_SIZE = 22\n",
    "\n",
    "NUM_LAYERS = 1\n",
    "BATCH_SIZE = 1\n",
    "NUM_EPOCHS = 50\n",
    "MILESTONES = [10, 40]\n",
    "GAMMA = 0.1\n",
    "LEARNING_RATE = 1e-2"
   ]
  },
  {
   "cell_type": "code",
   "execution_count": 10,
   "metadata": {
    "collapsed": false
   },
   "outputs": [
    {
     "data": {
      "text/html": [
       "\n",
       "          <script src=\"/static/components/requirejs/require.js\"></script>\n",
       "          <script>\n",
       "            requirejs.config({\n",
       "              paths: {\n",
       "                base: '/static/base',\n",
       "              },\n",
       "            });\n",
       "          </script>\n",
       "          "
      ],
      "text/plain": [
       "<IPython.core.display.HTML object>"
      ]
     },
     "metadata": {},
     "output_type": "display_data"
    }
   ],
   "source": [
    "def save_checkpoint(state, is_best, filepath):\n",
    "    torch.save(state, filepath)\n",
    "    if is_best:\n",
    "        torch.save(state, 'checkpoints/best_model_full.pth.tar')\n",
    "        torch.save(state['state_dict'], 'checkpoints/best_model_state.pth.tar')"
   ]
  },
  {
   "cell_type": "code",
   "execution_count": 11,
   "metadata": {
    "collapsed": false
   },
   "outputs": [
    {
     "data": {
      "text/html": [
       "\n",
       "          <script src=\"/static/components/requirejs/require.js\"></script>\n",
       "          <script>\n",
       "            requirejs.config({\n",
       "              paths: {\n",
       "                base: '/static/base',\n",
       "              },\n",
       "            });\n",
       "          </script>\n",
       "          "
      ],
      "text/plain": [
       "<IPython.core.display.HTML object>"
      ]
     },
     "metadata": {},
     "output_type": "display_data"
    }
   ],
   "source": [
    "class LSTMDriver(nn.Module):\n",
    "    def __init__(self, input_size, hidden_size, num_layers, output_size, batch_size):\n",
    "        super(LSTMDriver, self).__init__()\n",
    "        self.input_size = input_size\n",
    "        self.hidden_size = hidden_size\n",
    "        self.num_layers = num_layers\n",
    "        self.output_size = output_size\n",
    "        self.batch_size = batch_size\n",
    "        \n",
    "        super(LSTMDriver, self).__init__()\n",
    "\n",
    "        self.lstm = nn.LSTM(input_size=self.input_size, hidden_size=self.hidden_size, num_layers=self.num_layers)\n",
    "        \n",
    "        self.hidden = self.init_hidden()\n",
    "        \n",
    "        self.linear = nn.Linear(self.hidden_size, self.output_size)\n",
    "\n",
    "    def init_hidden(self):\n",
    "        return (autograd.Variable(torch.zeros(self.num_layers, self.batch_size, self.hidden_size)),\n",
    "                    autograd.Variable(torch.zeros(self.num_layers, self.batch_size, self.hidden_size)))\n",
    "    \n",
    "    def forward(self, x):\n",
    "        lstm_out, self.hidden = self.lstm(x.view(len(x), 1, -1), self.hidden)\n",
    "        linear_out = self.linear(lstm_out)\n",
    "        \n",
    "        return linear_out"
   ]
  },
  {
   "cell_type": "code",
   "execution_count": 12,
   "metadata": {
    "collapsed": false,
    "scrolled": false
   },
   "outputs": [
    {
     "data": {
      "text/html": [
       "\n",
       "          <script src=\"/static/components/requirejs/require.js\"></script>\n",
       "          <script>\n",
       "            requirejs.config({\n",
       "              paths: {\n",
       "                base: '/static/base',\n",
       "              },\n",
       "            });\n",
       "          </script>\n",
       "          "
      ],
      "text/plain": [
       "<IPython.core.display.HTML object>"
      ]
     },
     "metadata": {},
     "output_type": "display_data"
    },
    {
     "name": "stdout",
     "output_type": "stream",
     "text": [
      "---|--- best model found so far: 0.000000\n"
     ]
    }
   ],
   "source": [
    "model = LSTMDriver(INPUT_SIZE, HIDDEN_SIZE, NUM_LAYERS, TARGET_SIZE, BATCH_SIZE)\n",
    "criterion = nn.MSELoss()\n",
    "optimizer = optim.Adam(model.parameters(), lr=LEARNING_RATE)\n",
    "scheduler = lr_scheduler.MultiStepLR(optimizer, milestones=MILESTONES, gamma=GAMMA)\n",
    "min_loss = math.inf\n",
    "losses = []\n",
    "\n",
    "for epoch in np.arange(NUM_EPOCHS):\n",
    "    logging.info('Epoch [%d/%d]' %(epoch+1, NUM_EPOCHS))\n",
    "    \n",
    "    current_loss = 0\n",
    "    is_best = False\n",
    "    scheduler.step()\n",
    "    for key in training_data:\n",
    "        logging.info('--- parsing track: %s/%s' % (key.split('/')[1], key.split('/')[2]))\n",
    "\n",
    "        model.hidden = model.init_hidden()\n",
    "        track_sequence = training_data[key]\n",
    "        \n",
    "        targets = track_sequence[:, 0:3]\n",
    "        inputs = track_sequence[:, 3:]\n",
    "        \n",
    "        targets_variable = autograd.Variable(torch.Tensor(targets))\n",
    "        inputs_variable = autograd.Variable(torch.Tensor(inputs))\n",
    "        \n",
    "        outputs_variable = model(inputs_variable)\n",
    "        \n",
    "        loss = criterion(outputs_variable, targets_variable)\n",
    "        \n",
    "        loss.backward()\n",
    "        optimizer.step()\n",
    "        \n",
    "        current_loss += loss.data[0]\n",
    "\n",
    "    if current_loss < min_loss:\n",
    "        print('---|--- best model found so far: %f' % current_loss)\n",
    "        min_loss = current_loss\n",
    "        is_best = True\n",
    "    else:\n",
    "        logging.info('---|--- not the best model: %f' % current_loss)\n",
    "        \n",
    "    save_checkpoint({\n",
    "            'epoch': epoch + 1,\n",
    "            'state_dict': model.state_dict(),\n",
    "            'min_loss': min_loss,\n",
    "            'optimizer' : optimizer.state_dict(),\n",
    "        }, is_best, filepath='checkpoints/checkpoint.pth.tar')\n",
    "    \n",
    "    logging.info('-------------------------------------------------------')"
   ]
  },
  {
   "cell_type": "code",
   "execution_count": null,
   "metadata": {
    "collapsed": true
   },
   "outputs": [],
   "source": []
  }
 ],
 "metadata": {
  "kernelspec": {
   "display_name": "Python 3",
   "language": "python",
   "name": "python3"
  },
  "language_info": {
   "codemirror_mode": {
    "name": "ipython",
    "version": 3
   },
   "file_extension": ".py",
   "mimetype": "text/x-python",
   "name": "python",
   "nbconvert_exporter": "python",
   "pygments_lexer": "ipython3",
   "version": "3.5.2"
  }
 },
 "nbformat": 4,
 "nbformat_minor": 2
}
