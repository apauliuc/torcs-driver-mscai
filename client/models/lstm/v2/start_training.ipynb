{
 "cells": [
  {
   "cell_type": "code",
   "execution_count": 37,
   "metadata": {
    "collapsed": false
   },
   "outputs": [
    {
     "data": {
      "text/html": [
       "\n",
       "          <script src=\"/static/components/requirejs/require.js\"></script>\n",
       "          <script>\n",
       "            requirejs.config({\n",
       "              paths: {\n",
       "                base: '/static/base',\n",
       "              },\n",
       "            });\n",
       "          </script>\n",
       "          "
      ],
      "text/plain": [
       "<IPython.core.display.HTML object>"
      ]
     },
     "metadata": {},
     "output_type": "display_data"
    }
   ],
   "source": [
    "import torch\n",
    "import torch.autograd as autograd\n",
    "import torch.nn as nn\n",
    "import torch.optim as optim\n",
    "import torch.optim.lr_scheduler as lr_scheduler\n",
    "\n",
    "import pandas as pd\n",
    "import math\n",
    "import glob\n",
    "\n",
    "from model import LSTMDriver\n",
    "\n",
    "import logging\n",
    "# logging.basicConfig(filename='training.log',level=logging.DEBUG)"
   ]
  },
  {
   "cell_type": "code",
   "execution_count": 38,
   "metadata": {
    "collapsed": false
   },
   "outputs": [
    {
     "data": {
      "text/html": [
       "\n",
       "          <script src=\"/static/components/requirejs/require.js\"></script>\n",
       "          <script>\n",
       "            requirejs.config({\n",
       "              paths: {\n",
       "                base: '/static/base',\n",
       "              },\n",
       "            });\n",
       "          </script>\n",
       "          "
      ],
      "text/plain": [
       "<IPython.core.display.HTML object>"
      ]
     },
     "metadata": {},
     "output_type": "display_data"
    }
   ],
   "source": [
    "PROJECT_ROOT = '/content/datalab/torcs-driverless-car'\n",
    "LEARNED_DRIVER = 'snakeoil_miner/data'\n",
    "DIFFICULTY = 'easy'\n",
    "\n",
    "TARGET_SIZE = 3\n",
    "INPUT_SIZE = 22\n",
    "HIDDEN_SIZE = 75\n",
    "\n",
    "NUM_LAYERS = 2\n",
    "BATCH_SIZE = 1\n",
    "NUM_EPOCHS = 100\n",
    "LEARNING_RATE = 1e-3\n",
    "\n",
    "\n",
    "TRAINING_FILES = glob.glob('/'.join([PROJECT_ROOT, LEARNED_DRIVER, DIFFICULTY, '*.csv']))\n",
    "TRAINING_DATA = {}\n",
    "for FILE in TRAINING_FILES:\n",
    "  DF = pd.read_csv(FILE, index_col=False)\n",
    "  TRAINING_DATA[FILE] = DF.values\n",
    "\n",
    "VALIDATION_FILES = glob.glob('/'.join([PROJECT_ROOT, LEARNED_DRIVER, 'validation', '*.csv']))\n",
    "VALIDAITON_DATA = {}\n",
    "for FILE in VALIDATION_FILES:\n",
    "  DF = pd.read_csv(FILE, index_col=False)\n",
    "  VALIDAITON_DATA[FILE] = DF.values"
   ]
  },
  {
   "cell_type": "code",
   "execution_count": 39,
   "metadata": {
    "collapsed": false
   },
   "outputs": [
    {
     "data": {
      "text/html": [
       "\n",
       "          <script src=\"/static/components/requirejs/require.js\"></script>\n",
       "          <script>\n",
       "            requirejs.config({\n",
       "              paths: {\n",
       "                base: '/static/base',\n",
       "              },\n",
       "            });\n",
       "          </script>\n",
       "          "
      ],
      "text/plain": [
       "<IPython.core.display.HTML object>"
      ]
     },
     "metadata": {},
     "output_type": "display_data"
    }
   ],
   "source": [
    "def save_checkpoint(state, is_best, filepath='latest_checkpoint.pth.tar'):\n",
    "  torch.save(state, 'checkpoints/' + filepath)\n",
    "  if is_best:\n",
    "      torch.save(state, 'checkpoints/best_checkpoint.pth.tar')"
   ]
  },
  {
   "cell_type": "code",
   "execution_count": 46,
   "metadata": {
    "collapsed": false
   },
   "outputs": [
    {
     "data": {
      "text/html": [
       "\n",
       "          <script src=\"/static/components/requirejs/require.js\"></script>\n",
       "          <script>\n",
       "            requirejs.config({\n",
       "              paths: {\n",
       "                base: '/static/base',\n",
       "              },\n",
       "            });\n",
       "          </script>\n",
       "          "
      ],
      "text/plain": [
       "<IPython.core.display.HTML object>"
      ]
     },
     "metadata": {},
     "output_type": "display_data"
    }
   ],
   "source": [
    "def train(training_data, model, criterion):\n",
    "  training_loss = 0\n",
    "  for key in training_data:\n",
    "\n",
    "    model.hidden = model.init_hidden()\n",
    "    track_sequence = training_data[key]\n",
    "\n",
    "    targets = track_sequence[:, 0:3]\n",
    "    inputs = track_sequence[:, 3:]\n",
    "\n",
    "    targets_variable = autograd.Variable(torch.Tensor(targets).contiguous())\n",
    "    inputs_variable = autograd.Variable(torch.Tensor(inputs).contiguous())\n",
    "\n",
    "    outputs_variable = model(inputs_variable)\n",
    "\n",
    "    loss = criterion(outputs_variable, targets_variable)\n",
    "\n",
    "    loss.backward()\n",
    "    optimizer.step()\n",
    "\n",
    "    training_loss += loss.data[0]\n",
    "  return training_loss"
   ]
  },
  {
   "cell_type": "code",
   "execution_count": 47,
   "metadata": {
    "collapsed": false
   },
   "outputs": [
    {
     "data": {
      "text/html": [
       "\n",
       "          <script src=\"/static/components/requirejs/require.js\"></script>\n",
       "          <script>\n",
       "            requirejs.config({\n",
       "              paths: {\n",
       "                base: '/static/base',\n",
       "              },\n",
       "            });\n",
       "          </script>\n",
       "          "
      ],
      "text/plain": [
       "<IPython.core.display.HTML object>"
      ]
     },
     "metadata": {},
     "output_type": "display_data"
    }
   ],
   "source": [
    "def validate(validation_data, model, criterion):\n",
    "  validation_loss = 0\n",
    "  for key in validation_data:\n",
    "\n",
    "    model.hidden = model.init_hidden()\n",
    "    track_sequence = validation_data[key]\n",
    "\n",
    "    targets = track_sequence[:, 0:3]\n",
    "    inputs = track_sequence[:, 3:]\n",
    "\n",
    "    targets_variable = autograd.Variable(torch.Tensor(targets).contiguous())\n",
    "    inputs_variable = autograd.Variable(torch.Tensor(inputs).contiguous())\n",
    "\n",
    "    outputs_variable = model(inputs_variable)\n",
    "\n",
    "    loss = criterion(outputs_variable, targets_variable)\n",
    "\n",
    "    validation_loss += loss.data[0]\n",
    "  return training_loss"
   ]
  },
  {
   "cell_type": "code",
   "execution_count": null,
   "metadata": {
    "collapsed": false,
    "scrolled": false
   },
   "outputs": [
    {
     "data": {
      "text/html": [
       "\n",
       "          <script src=\"/static/components/requirejs/require.js\"></script>\n",
       "          <script>\n",
       "            requirejs.config({\n",
       "              paths: {\n",
       "                base: '/static/base',\n",
       "              },\n",
       "            });\n",
       "          </script>\n",
       "          "
      ],
      "text/plain": [
       "<IPython.core.display.HTML object>"
      ]
     },
     "metadata": {},
     "output_type": "display_data"
    }
   ],
   "source": [
    "model = LSTMDriver(INPUT_SIZE, HIDDEN_SIZE, NUM_LAYERS, TARGET_SIZE, BATCH_SIZE)\n",
    "criterion = nn.MSELoss()\n",
    "optimizer = optim.Adam(model.parameters(), lr=LEARNING_RATE)\n",
    "scheduler = lr_scheduler.ReduceLROnPlateau(optimizer, mode='min', verbose=True)\n",
    "min_loss = math.inf\n",
    "losses = {\n",
    "  'training': [],\n",
    "  'validation': []\n",
    "}\n",
    "\n",
    "for epoch in np.arange(NUM_EPOCHS):\n",
    "  logging.info('Epoch [%d/%d]' %(epoch+1, NUM_EPOCHS))\n",
    "  is_best = False\n",
    " \n",
    "  training_loss = train(TRAINING_DATA, model, criterion)\n",
    "  logging.info('--- TRAINING LOSS: %f' % training_loss)\n",
    "  \n",
    "  validation_loss = validate(VALIDATION_DATA, model, criterion)\n",
    "  logging.infO('--- VALIDATION LOSS: %f' % validation_loss)\n",
    "\n",
    "  if validation_loss < min_loss:\n",
    "      logging.info('--- --- best model found so far: %f' % current_loss)\n",
    "      min_loss = validation_loss\n",
    "      is_best = True\n",
    "\n",
    "  losses['training'].append(training_loss)\n",
    "  loss['validation'].append(validation_loss)\n",
    "\n",
    "  save_checkpoint({\n",
    "          'epoch': epoch + 1,\n",
    "          'state_dict': model.state_dict(),\n",
    "          'min_loss': min_loss,\n",
    "          'optimizer' : optimizer.state_dict(),\n",
    "      }, is_best)\n",
    "  \n",
    "  scheduler.step(validation_loss)\n",
    "  logging.info('-------------------------------------------------------')"
   ]
  },
  {
   "cell_type": "code",
   "execution_count": null,
   "metadata": {
    "collapsed": true
   },
   "outputs": [],
   "source": []
  }
 ],
 "metadata": {
  "kernelspec": {
   "display_name": "Python 3",
   "language": "python",
   "name": "python3"
  },
  "language_info": {
   "codemirror_mode": {
    "name": "ipython",
    "version": 3
   },
   "file_extension": ".py",
   "mimetype": "text/x-python",
   "name": "python",
   "nbconvert_exporter": "python",
   "pygments_lexer": "ipython3",
   "version": "3.5.2"
  }
 },
 "nbformat": 4,
 "nbformat_minor": 2
}
