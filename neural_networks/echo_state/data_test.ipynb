{
 "cells": [
  {
   "cell_type": "code",
   "execution_count": 66,
   "metadata": {},
   "outputs": [],
   "source": [
    "import glob\n",
    "import pandas as pd\n",
    "import numpy as np\n",
    "from sklearn.preprocessing import Imputer\n",
    "\n",
    "\n",
    "def normalize(x, mmin, mmax):\n",
    "    return (x - mmin) / (mmax - mmin)\n",
    "\n",
    "\n",
    "def normalize_to_int(x, mmin, mmax, a=-1, b=1):\n",
    "    return (b - a) * (x - mmin) / (mmax - mmin) + a\n",
    "\n",
    "folder = 'train_data'\n",
    "training_files = glob.glob(folder + '/*.csv')\n",
    "\n",
    "first = True\n",
    "X_full = y_full = None\n",
    "\n",
    "for f in training_files:\n",
    "    # read dataset\n",
    "    train_ds = pd.read_csv(f, header=None)\n",
    "\n",
    "    X = train_ds.iloc[:, :-4].values\n",
    "    y = train_ds.iloc[:, -4:].values\n",
    "\n",
    "    X_full = X if first else np.concatenate((X_full, X))\n",
    "    y_full = y if first else np.concatenate((y_full, y))\n",
    "\n",
    "    first = False\n",
    "\n",
    "# Fill missing values with mean\n",
    "imputer = Imputer(missing_values='NaN', strategy='mean', axis=0)\n",
    "imputer = imputer.fit(X_full)\n",
    "X_full = imputer.transform(X_full)\n",
    "\n",
    "# Min and max values for specific parameters\n",
    "maxSpeedX = X_full[:, 0].max()\n",
    "minSpeedX = X_full[:, 0].min()\n",
    "maxSpeedY = X_full[:, 1].max()\n",
    "minSpeedY = X_full[:, 1].min()\n",
    "maxRPM = X_full[:, 4].max()\n",
    "maxWheelSpin = X_full[:, 5:9].max()\n",
    "minWheelSpin = X_full[:, 5:9].min()\n",
    "minDistFromEdge = X_full[:, 9:].min()\n",
    "\n",
    "param_dict = {\n",
    "    'maxSpeedX': maxSpeedX,\n",
    "    'minSpeedX': minSpeedX,\n",
    "    'maxSpeedY': maxSpeedY,\n",
    "    'minSpeedY': minSpeedY,\n",
    "    'maxRPM': maxRPM,\n",
    "    'maxWheelSpin': maxWheelSpin,\n",
    "    'minWheelSpin': minWheelSpin,\n",
    "    'minDistFromEdge': minDistFromEdge\n",
    "}\n",
    "\n",
    "X_train = X_full\n",
    "y_train = np.zeros(y_full.shape)\n",
    "\n",
    "# gear = range(-1, 6)\n",
    "gears = y_full[:, 0]\n",
    "gears[gears == 7] = 6\n",
    "y_train[:, 0] = normalize_to_int(gears, -1, 6)\n",
    "# steering = range(-1, 1)\n",
    "y_train[:, 1] = np.clip(y_full[:, 1], -1, 1)\n",
    "# accelerate-brake = range(-1, 1)\n",
    "accel_brake = y_full[:, 2] - y_full[:, 3]\n",
    "y_train[:, 2] = normalize_to_int(accel_brake, -1, 1)\n",
    "\n",
    "y_train = np.delete(y_train, 3, axis=1)"
   ]
  },
  {
   "cell_type": "code",
   "execution_count": 78,
   "metadata": {},
   "outputs": [],
   "source": [
    "accel_brake = y_full[:, 2] - y_full[:, 3]"
   ]
  },
  {
   "cell_type": "code",
   "execution_count": 81,
   "metadata": {},
   "outputs": [],
   "source": [
    "accel_brake = normalize_to_int(accel_brake, -1, 1)"
   ]
  },
  {
   "cell_type": "code",
   "execution_count": 91,
   "metadata": {},
   "outputs": [
    {
     "data": {
      "text/plain": [
       "-1.0"
      ]
     },
     "execution_count": 91,
     "metadata": {},
     "output_type": "execute_result"
    }
   ],
   "source": [
    "y_train[:, 1].min()"
   ]
  },
  {
   "cell_type": "code",
   "execution_count": null,
   "metadata": {},
   "outputs": [],
   "source": []
  },
  {
   "cell_type": "code",
   "execution_count": 4,
   "metadata": {},
   "outputs": [],
   "source": [
    "a = np.array([[1], [2], [3]])\n",
    "b = np.array([[4], [5], [6]])\n",
    "c = np.array([[7], [8], [9]])"
   ]
  },
  {
   "cell_type": "code",
   "execution_count": 8,
   "metadata": {},
   "outputs": [],
   "source": [
    "T0 = 1"
   ]
  },
  {
   "cell_type": "code",
   "execution_count": 9,
   "metadata": {},
   "outputs": [
    {
     "data": {
      "text/plain": [
       "array([[2, 5, 7],\n",
       "       [3, 6, 8]])"
      ]
     },
     "execution_count": 9,
     "metadata": {},
     "output_type": "execute_result"
    }
   ],
   "source": [
    "np.hstack((a[T0:], b[T0:], c[T0-1:-1]))"
   ]
  },
  {
   "cell_type": "code",
   "execution_count": 12,
   "metadata": {},
   "outputs": [],
   "source": [
    "a = [1, 2]"
   ]
  },
  {
   "cell_type": "code",
   "execution_count": 14,
   "metadata": {},
   "outputs": [],
   "source": [
    "c1, c2 = a"
   ]
  },
  {
   "cell_type": "code",
   "execution_count": 16,
   "metadata": {},
   "outputs": [
    {
     "data": {
      "text/plain": [
       "2"
      ]
     },
     "execution_count": 16,
     "metadata": {},
     "output_type": "execute_result"
    }
   ],
   "source": [
    "c2"
   ]
  },
  {
   "cell_type": "code",
   "execution_count": null,
   "metadata": {},
   "outputs": [],
   "source": []
  }
 ],
 "metadata": {
  "kernelspec": {
   "display_name": "Python 3",
   "language": "python",
   "name": "python3"
  },
  "language_info": {
   "codemirror_mode": {
    "name": "ipython",
    "version": 3
   },
   "file_extension": ".py",
   "mimetype": "text/x-python",
   "name": "python",
   "nbconvert_exporter": "python",
   "pygments_lexer": "ipython3",
   "version": "3.6.3"
  }
 },
 "nbformat": 4,
 "nbformat_minor": 2
}
