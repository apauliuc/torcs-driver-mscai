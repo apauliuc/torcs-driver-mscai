{
 "cells": [
  {
   "cell_type": "code",
   "execution_count": 14,
   "metadata": {},
   "outputs": [],
   "source": [
    "import glob\n",
    "import os\n",
    "import numpy as np\n",
    "import pandas as pd"
   ]
  },
  {
   "cell_type": "code",
   "execution_count": 12,
   "metadata": {},
   "outputs": [],
   "source": [
    "def normalize(x, mmin, mmax):\n",
    "    return (x - mmin) / (mmax - mmin)\n",
    "\n",
    "\n",
    "def scale_array(x, mmin=0, mmax=1, new_min=-1, new_max=1):\n",
    "    x = normalize(x, mmin, mmax)\n",
    "    return np.clip(x * (new_max - new_min) + new_min, new_min, new_max)"
   ]
  },
  {
   "cell_type": "code",
   "execution_count": 22,
   "metadata": {},
   "outputs": [],
   "source": [
    "script_dir = os.getcwd()\n",
    "project_dir = os.path.split(os.path.split(script_dir)[0])[0]\n",
    "\n",
    "# driver = 'default_driver'\n",
    "# train_data_path = os.path.join(project_dir, '/data/csv/{}/*.csv'.format(driver))\n",
    "train_data_path = os.path.join(project_dir, 'data/csv')\n",
    "\n",
    "training_files = glob.glob(train_data_path + '/bot*.csv')"
   ]
  },
  {
   "cell_type": "code",
   "execution_count": 23,
   "metadata": {},
   "outputs": [],
   "source": [
    "first = True\n",
    "for f in training_files:\n",
    "    # read dataset\n",
    "    train_ds = pd.read_csv(f, header=None)\n",
    "\n",
    "    X = train_ds.iloc[:, :-4].values\n",
    "    y = train_ds.iloc[:, -4:].values\n",
    "\n",
    "    X_full = X if first else np.concatenate((X_full, X))\n",
    "    y_full = y if first else np.concatenate((y_full, y))\n",
    "\n",
    "    first = False"
   ]
  },
  {
   "cell_type": "code",
   "execution_count": 24,
   "metadata": {},
   "outputs": [
    {
     "name": "stdout",
     "output_type": "stream",
     "text": [
      "0 - min: -15.848694444400001; max: 29.0788888889\n",
      "1 - min: -20.7573055556; max: 17.720361111099997\n",
      "2 - min: -3.13042; max: 3.13409\n",
      "3 - min: 0.0; max: 6.0\n",
      "4 - min: 0.0; max: 9714.08\n",
      "5 - min: -46.0786; max: 88.0865\n",
      "6 - min: -55.1592; max: 87.8446\n",
      "7 - min: -46.0739; max: 278.655\n",
      "8 - min: -50.94; max: 278.39\n",
      "9 - min: -1.0; max: 200.0\n",
      "10 - min: -1.0; max: 200.0\n",
      "11 - min: -1.0; max: 200.0\n",
      "12 - min: -1.0; max: 200.0\n",
      "13 - min: -1.0; max: 200.0\n",
      "14 - min: -1.0; max: 200.0\n",
      "15 - min: -1.0; max: 200.0\n",
      "16 - min: -1.0; max: 200.0\n",
      "17 - min: -1.0; max: 200.0\n",
      "18 - min: -1.0; max: 200.0\n",
      "19 - min: -1.0; max: 200.0\n",
      "20 - min: -1.0; max: 200.0\n",
      "21 - min: -1.0; max: 200.0\n",
      "22 - min: -1.0; max: 200.0\n",
      "23 - min: -1.0; max: 200.0\n",
      "24 - min: -1.0; max: 200.0\n",
      "25 - min: -1.0; max: 200.0\n",
      "26 - min: -1.0; max: 200.0\n",
      "27 - min: -1.0; max: 200.0\n"
     ]
    }
   ],
   "source": [
    "for i in np.arange(X_full.shape[1]):\n",
    "    print('{} - min: {}; max: {}'.format(i, X_full[:, i].min(), X_full[:, i].max()))"
   ]
  },
  {
   "cell_type": "code",
   "execution_count": 28,
   "metadata": {},
   "outputs": [
    {
     "name": "stdout",
     "output_type": "stream",
     "text": [
      "0 - min: -1.0; max: 7.0\n",
      "1 - min: -7.593300427999999; max: 6.7815199999999995\n",
      "2 - min: 0.0; max: 1.0\n",
      "3 - min: 0.0; max: 0.0\n"
     ]
    }
   ],
   "source": [
    "for i in np.arange(y_full.shape[1]):\n",
    "    print('{} - min: {}; max: {}'.format(i, y_full[:, i].min(), y_full[:, i].max()))"
   ]
  },
  {
   "cell_type": "code",
   "execution_count": 108,
   "metadata": {},
   "outputs": [],
   "source": [
    "# Min and max values for specific parameters\n",
    "maxSpeedX = X_full[:, 0].max()\n",
    "minSpeedX = X_full[:, 0].min()\n",
    "maxSpeedY = X_full[:, 1].max()\n",
    "minSpeedY = X_full[:, 1].min()\n",
    "maxRPM = X_full[:, 4].max()\n",
    "maxWheelSpin = X_full[:, 9:28].max()\n",
    "\n",
    "param_dict = {\n",
    "    'maxSpeedX': maxSpeedX,\n",
    "    'minSpeedX': minSpeedX,\n",
    "    'maxSpeedY': maxSpeedY,\n",
    "    'minSpeedY': minSpeedY,\n",
    "    'maxRPM': maxRPM,\n",
    "    'maxWheelSpin': maxWheelSpin\n",
    "}\n",
    "\n",
    "X_train = np.zeros(X_full.shape)\n",
    "\n",
    "X_train[:, 0] = scale_array(X_full[:, 0], minSpeedX, maxSpeedX)\n",
    "X_train[:, 1] = scale_array(X_full[:, 1], minSpeedY, maxSpeedY)\n",
    "X_train[:, 2] = scale_array(X_full[:, 2], -math.pi, math.pi)\n",
    "\n",
    "gears = X_full[:, 3]\n",
    "gears[gears > 6] = 6\n",
    "gears[gears < -1] = -1\n",
    "X_train[:, 3] = scale_array(gears, -1, 6)\n",
    "\n",
    "X_train[:, 4] = scale_array(X_full[:, 4], 0, maxRPM)\n",
    "\n",
    "for i in np.arange(5, 9):\n",
    "    X_train[:, i] = scale_array(X_full[:, i], 0, maxWheelSpin[i])\n",
    "for i in np.arange(9, 28):\n",
    "    X_train[:, i] = scale_array(X_full[:, i], 0, 200)\n",
    "\n",
    "# y_train = np.zeros(y_full.shape)\n",
    "\n",
    "# # gear = range(-1, 6)\n",
    "# gears = y_full[:, 0]\n",
    "# gears[gears == 7] = 6\n",
    "# y_train[:, 0] = normalize_to_int(gears, -1, 6)\n",
    "# # steering = range(-1, 1)\n",
    "# y_train[:, 1] = np.clip(y_full[:, 1], -1, 1)\n",
    "# # accelerate-brake = range(-1, 1)\n",
    "# accel_brake = y_full[:, 2] - y_full[:, 3]\n",
    "# y_train[:, 2] = normalize_to_int(accel_brake, -1, 1)\n",
    "\n",
    "# y_train = np.delete(y_train, 3, axis=1)"
   ]
  },
  {
   "cell_type": "code",
   "execution_count": 109,
   "metadata": {
    "scrolled": false
   },
   "outputs": [
    {
     "name": "stdout",
     "output_type": "stream",
     "text": [
      "1 - min: -1.0; max: 1.0\n",
      "2 - min: -1.0; max: 1.0\n",
      "3 - min: -0.9999832398418258; max: 0.9999705074463787\n",
      "4 - min: -1.0; max: 1.0\n",
      "5 - min: -1.0; max: 1.0\n",
      "6 - min: -1.0; max: 1.0\n",
      "7 - min: -1.0; max: 1.0\n",
      "8 - min: -1.0; max: 1.0\n",
      "9 - min: -1.0; max: 1.0\n",
      "10 - min: -1.0; max: 1.0\n",
      "11 - min: -1.0; max: 1.0\n",
      "12 - min: -1.0; max: 1.0\n",
      "13 - min: -1.0; max: 1.0\n",
      "14 - min: -1.0; max: 1.0\n",
      "15 - min: -1.0; max: 1.0\n",
      "16 - min: -1.0; max: 1.0\n",
      "17 - min: -1.0; max: 1.0\n",
      "18 - min: -1.0; max: 1.0\n",
      "19 - min: -1.0; max: 1.0\n",
      "20 - min: -1.0; max: 1.0\n",
      "21 - min: -1.0; max: 1.0\n",
      "22 - min: -1.0; max: 1.0\n",
      "23 - min: -1.0; max: 1.0\n",
      "24 - min: -1.0; max: 1.0\n",
      "25 - min: -1.0; max: 1.0\n",
      "26 - min: -1.0; max: 1.0\n",
      "27 - min: -1.0; max: 1.0\n",
      "28 - min: -1.0; max: 1.0\n"
     ]
    }
   ],
   "source": [
    "for i in np.arange(X_train.shape[1]):\n",
    "    print('{} - min: {}; max: {}'.format(i+1, X_train[:, i].min(), X_train[:, i].max()))"
   ]
  },
  {
   "cell_type": "code",
   "execution_count": null,
   "metadata": {},
   "outputs": [],
   "source": []
  }
 ],
 "metadata": {
  "kernelspec": {
   "display_name": "Python 3",
   "language": "python",
   "name": "python3"
  },
  "language_info": {
   "codemirror_mode": {
    "name": "ipython",
    "version": 3
   },
   "file_extension": ".py",
   "mimetype": "text/x-python",
   "name": "python",
   "nbconvert_exporter": "python",
   "pygments_lexer": "ipython3",
   "version": "3.6.3"
  }
 },
 "nbformat": 4,
 "nbformat_minor": 2
}
