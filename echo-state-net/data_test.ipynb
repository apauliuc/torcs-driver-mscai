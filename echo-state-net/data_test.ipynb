{
 "cells": [
  {
   "cell_type": "code",
   "execution_count": 1,
   "metadata": {},
   "outputs": [],
   "source": [
    "import glob\n",
    "import pandas as pd\n",
    "import numpy as np\n",
    "from sklearn.preprocessing import Imputer\n",
    "\n",
    "\n",
    "def normalize(x, mmin, mmax):\n",
    "    return (x - mmin) / (mmax - mmin)\n",
    "\n",
    "\n",
    "def normalize_to_int(x, mmin, mmax, a=-1, b=1):\n",
    "    return (b - a) * (x - mmin) / (mmax - mmin) + a\n",
    "\n",
    "\n",
    "# noinspection PyPep8Naming\n",
    "def load_training_data(folder, normalization=True):\n",
    "    training_files = glob.glob(folder + '/*.csv')\n",
    "\n",
    "    first = True\n",
    "    X_full = y_full = None\n",
    "\n",
    "    for f in training_files:\n",
    "        # read dataset\n",
    "        train_ds = pd.read_csv(f, header=None)\n",
    "\n",
    "        X = train_ds.iloc[:, :-4].values\n",
    "        y = train_ds.iloc[:, -4:].values\n",
    "\n",
    "        X_full = X if first else np.concatenate((X_full, X))\n",
    "        y_full = y if first else np.concatenate((y_full, y))\n",
    "\n",
    "        first = False\n",
    "\n",
    "    # Fill missing values with mean\n",
    "    imputer = Imputer(missing_values='NaN', strategy='mean', axis=0)\n",
    "    imputer = imputer.fit(X_full)\n",
    "    X_full = imputer.transform(X_full)\n",
    "\n",
    "    # Min and max values for specific parameters\n",
    "    maxSpeedX = X_full[:, 0].max()\n",
    "    minSpeedX = X_full[:, 0].min()\n",
    "    maxSpeedY = X_full[:, 1].max()\n",
    "    minSpeedY = X_full[:, 1].min()\n",
    "    maxRPM = X_full[:, 4].max()\n",
    "    maxWheelSpin = X_full[:, 5:9].max()\n",
    "    minWheelSpin = X_full[:, 5:9].min()\n",
    "    minDistFromEdge = X_full[:, 9:].min()\n",
    "\n",
    "    param_dict = {\n",
    "        'maxSpeedX': maxSpeedX,\n",
    "        'minSpeedX': minSpeedX,\n",
    "        'maxSpeedY': maxSpeedY,\n",
    "        'minSpeedY': minSpeedY,\n",
    "        'maxRPM': maxRPM,\n",
    "        'maxWheelSpin': maxWheelSpin,\n",
    "        'minWheelSpin': minWheelSpin,\n",
    "        'minDistFromEdge': minDistFromEdge\n",
    "    }\n",
    "\n",
    "    X_train = X_full\n",
    "    y_train = np.zeros(y_full.shape)\n",
    "\n",
    "    if normalization:\n",
    "        # # speedX = range(search min, search max)\n",
    "        # X_train[:, 0] = normalize_to_int(X_full[:, 0], minSpeedX, maxSpeedX)\n",
    "        # # speedY = range(search min, search max)\n",
    "        # X_train[:, 1] = normalize_to_int(X_full[:, 1], minSpeedY, maxSpeedY)\n",
    "        # # angle = range(-180, 180)\n",
    "        # X_train[:, 2] = normalize_to_int(X_full[:, 2], -180, 180)\n",
    "        # # currentGear = range(-1, 6)\n",
    "        # X_train[:, 3] = normalize_to_int(X_full[:, 3], -1, 6)\n",
    "        # # RPM = range(0, search max)\n",
    "        # X_train[:, 4] = normalize_to_int(X_full[:, 4], 0, maxRPM)\n",
    "        # # *wheelSpin = range(0, search max)\n",
    "        # for i in np.arange(5, 9):\n",
    "        #     X_train[:, i] = normalize_to_int(X_full[:, i], minWheelSpin, maxWheelSpin)\n",
    "        # # *sensorValues = range(0, 200)\n",
    "        # for i in np.arange(9, 28):\n",
    "        #     X_train[:, i] = normalize_to_int(X_full[:, i], minDistFromEdge, 200)\n",
    "        #\n",
    "        # gear = range(-1, 6)\n",
    "        y_train[:, 0] = normalize_to_int(y_full[:, 0], -1, 6)\n",
    "        y_train[:, 0] = np.clip(y_train[:, 0], -1, 1)\n",
    "        # steering = range(-1, 1)\n",
    "        y_train[:, 1] = normalize_to_int(y_full[:, 1], -1, 1)\n",
    "        y_train[:, 1] = np.clip(y_train[:, 1], -1, 1)\n",
    "        # y_train[:,1] = normalize2(y_full[:,1], -1, 1)  # steering = range(-1, 1)\n",
    "        # accelerate-brake = range(-1, 1)\n",
    "        # for acceleration and break, compute their difference and normalize it\n",
    "        accel_brake = y_full[:, 2] - y_full[:, 3]\n",
    "        y_train[:, 2] = normalize_to_int(accel_brake, accel_brake.min(), accel_brake.max())\n",
    "        # y_train[:,2] = normalize_to_int(accel_brake, -1, 1)\n",
    "    else:\n",
    "        y_train = y_full\n",
    "\n",
    "    y_train = np.delete(y_train, 3, axis=1)\n",
    "\n",
    "    return X_train, y_train, param_dict, X_full, y_full, accel_brake\n"
   ]
  },
  {
   "cell_type": "code",
   "execution_count": 2,
   "metadata": {},
   "outputs": [],
   "source": [
    "X_train, y_train, p, X_full, y_full, ab = load_training_data('train_data')"
   ]
  },
  {
   "cell_type": "code",
   "execution_count": 8,
   "metadata": {},
   "outputs": [
    {
     "data": {
      "text/plain": [
       "-2.1541005470071948"
      ]
     },
     "execution_count": 8,
     "metadata": {},
     "output_type": "execute_result"
    }
   ],
   "source": [
    "y_full[:,3].min()"
   ]
  }
 ],
 "metadata": {
  "kernelspec": {
   "display_name": "Python 3",
   "language": "python",
   "name": "python3"
  },
  "language_info": {
   "codemirror_mode": {
    "name": "ipython",
    "version": 3
   },
   "file_extension": ".py",
   "mimetype": "text/x-python",
   "name": "python",
   "nbconvert_exporter": "python",
   "pygments_lexer": "ipython3",
   "version": "3.6.3"
  }
 },
 "nbformat": 4,
 "nbformat_minor": 2
}
