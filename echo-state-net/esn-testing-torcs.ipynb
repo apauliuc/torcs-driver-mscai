{
 "cells": [
  {
   "cell_type": "code",
   "execution_count": 1,
   "metadata": {},
   "outputs": [],
   "source": [
    "import glob\n",
    "import numpy as np\n",
    "from ESN import ESN\n",
    "import pickle\n",
    "import pandas as pd\n",
    "from sklearn.preprocessing import Imputer\n",
    "import math"
   ]
  },
  {
   "cell_type": "markdown",
   "metadata": {},
   "source": [
    "### Create ESN Network"
   ]
  },
  {
   "cell_type": "code",
   "execution_count": 2,
   "metadata": {},
   "outputs": [],
   "source": [
    "def safe_arctanh(x):\n",
    "    if x.ndim == 2:\n",
    "        for row in np.arange(x.shape[0]):\n",
    "            x[row, :] = [i - 1e-15 if i == 1 else i + 1e-15 if i == -1 else i for i in x[row, :]]\n",
    "    elif x.ndim == 1:\n",
    "        x = [i - 1e-15 if i == 1 else i + 1e-15 if i == -1 else i for i in x]\n",
    "    return np.arctanh(x)"
   ]
  },
  {
   "cell_type": "code",
   "execution_count": 3,
   "metadata": {},
   "outputs": [],
   "source": [
    "esn = ESN(n_inputs=28,\n",
    "          n_outputs=3,\n",
    "          n_reservoir=50,\n",
    "          spectral_radius=0.95,\n",
    "          sparsity=0,\n",
    "          noise=0.001,\n",
    "          teacher_forcing=True,\n",
    "          activation_out=np.tanh,\n",
    "          inverse_activation_out=safe_arctanh,\n",
    "          random_state=10,\n",
    "          print_state=True)"
   ]
  },
  {
   "cell_type": "markdown",
   "metadata": {},
   "source": [
    "### Training"
   ]
  },
  {
   "cell_type": "markdown",
   "metadata": {},
   "source": [
    "#### Load and pre-process data"
   ]
  },
  {
   "cell_type": "code",
   "execution_count": 12,
   "metadata": {},
   "outputs": [],
   "source": [
    "training_files = glob.glob('train_data/*.csv')\n",
    "\n",
    "first = True\n",
    "\n",
    "for f in training_files:\n",
    "    # read dataset\n",
    "    train_ds = pd.read_csv(f, header=None)\n",
    "    \n",
    "    X = train_ds.iloc[:, :-4].values\n",
    "    y = train_ds.iloc[:, -4:].values\n",
    "    \n",
    "    X_full = X if first else np.concatenate((X_full, X))\n",
    "    y_full = y if first else np.concatenate((y_full, y))\n",
    "    \n",
    "    first = False\n",
    "    \n",
    "# Fill missing values with mean\n",
    "imputer = Imputer(missing_values='NaN', strategy='mean', axis=0)\n",
    "imputer = imputer.fit(X_full)\n",
    "X_train = imputer.transform(X_full)\n",
    "\n",
    "# Min and max values for specific parameters\n",
    "maxSpeedX = X_full[:, 0].max()\n",
    "minSpeedX = X_full[:, 0].min()\n",
    "maxSpeedY = X_full[:, 1].max()\n",
    "minSpeedY = X_full[:, 1].min()\n",
    "maxRPM = X_full[:, 4].max()\n",
    "maxWheelSpin = X_full[:, 5:9].max()"
   ]
  },
  {
   "cell_type": "code",
   "execution_count": 14,
   "metadata": {},
   "outputs": [],
   "source": [
    "def normalize(x, mmin, mmax):\n",
    "    return (x - mmin)/(mmax-mmin)\n",
    "\n",
    "def normalize2(x, mmin, mmax, a=-1, b=1):\n",
    "    return (b - a) * (x - mmin) / (mmax - mmin) + a\n",
    "\n",
    "normalization = True\n",
    "X_train = np.zeros(X_full.shape)\n",
    "y_train = np.zeros(y_full.shape)\n",
    "\n",
    "if normalization:    \n",
    "    X_train[:,0] = normalize2(X_full[:,0], minSpeedX, maxSpeedX)  # speedX = range(search min, search max)\n",
    "    X_train[:,1] = normalize2(X_full[:,1], minSpeedY, maxSpeedY)  # speedY = range(search min, search max)\n",
    "    X_train[:,2] = normalize2(X_full[:,2], -180, 180)  # angle = range(-180, 180)\n",
    "    X_train[:,3] = normalize2(X_full[:,3], -1, 6)  # currentGear = range(-1, 6)\n",
    "    X_train[:,4] = normalize2(X_full[:,4], 0, maxRPM)  # RPM = range(0, search max)\n",
    "    for i in np.arange(5, 9):\n",
    "        X_train[:,i] = normalize2(X_full[:,i], 0, maxWheelSpin)  # *wheelSpin = range(0, search max)\n",
    "    for i in np.arange(9, 28):\n",
    "        X_train[:,i] = normalize2(X_full[:,i], 0, 200)  # *sensorValues = range(0, 200)\n",
    "    y_train[:,0] = normalize2(y_full[:,0], -1, 6)  # gear = range(-1, 6)\n",
    "    y_train[:,1] = normalize2(y_full[:,1], -1, 1)  # steering = range(-1, 1)\n",
    "    # for acceleration and break, compute their difference and normalize it\n",
    "    accel_brake = y_full[:,2] - y_full[:,3]\n",
    "    y_train[:,2] = normalize2(accel_brake, -1, 1)  # accelerate-brake = range(-1, 1)\n",
    "else:\n",
    "    X_train = X_full\n",
    "    y_train = y_full\n",
    "    \n",
    "y_train = np.delete(y_train, 3, axis=1)"
   ]
  },
  {
   "cell_type": "markdown",
   "metadata": {},
   "source": [
    "#### Fit data to ESN"
   ]
  },
  {
   "cell_type": "code",
   "execution_count": 18,
   "metadata": {},
   "outputs": [
    {
     "name": "stderr",
     "output_type": "stream",
     "text": [
      "/usr/local/miniconda3/lib/python3.6/site-packages/ipykernel_launcher.py:7: RuntimeWarning: invalid value encountered in arctanh\n",
      "  import sys\n"
     ]
    },
    {
     "data": {
      "text/plain": [
       "array([[ -4.58145366e-01,   1.58530564e-02,   2.94298500e-03],\n",
       "       [ -4.58145366e-01,   1.58530564e-02,   1.76163616e+01],\n",
       "       [ -4.58145366e-01,   1.58530564e-02,   1.76163616e+01],\n",
       "       ..., \n",
       "       [  4.58145366e-01,  -2.09567450e-03,   1.76163616e+01],\n",
       "       [  4.58145366e-01,  -2.09505602e-03,   1.76163616e+01],\n",
       "       [  4.58145366e-01,  -2.09401986e-03,   1.76163616e+01]])"
      ]
     },
     "execution_count": 18,
     "metadata": {},
     "output_type": "execute_result"
    }
   ],
   "source": [
    "safe_arctanh(y_train)"
   ]
  },
  {
   "cell_type": "code",
   "execution_count": 16,
   "metadata": {
    "scrolled": false
   },
   "outputs": [
    {
     "name": "stdout",
     "output_type": "stream",
     "text": [
      "computing states...\n",
      "fitting...\n"
     ]
    },
    {
     "name": "stderr",
     "output_type": "stream",
     "text": [
      "/usr/local/miniconda3/lib/python3.6/site-packages/ipykernel_launcher.py:7: RuntimeWarning: invalid value encountered in arctanh\n",
      "  import sys\n"
     ]
    },
    {
     "name": "stdout",
     "output_type": "stream",
     "text": [
      "training error:\n",
      "nan\n"
     ]
    },
    {
     "data": {
      "text/plain": [
       "array([[-0.99982149,         nan,         nan],\n",
       "       [-0.98897728,         nan,         nan],\n",
       "       [-0.95502203,         nan,         nan],\n",
       "       ..., \n",
       "       [ 0.209983  ,         nan,         nan],\n",
       "       [ 0.22198009,         nan,         nan],\n",
       "       [ 0.21033457,         nan,         nan]])"
      ]
     },
     "execution_count": 16,
     "metadata": {},
     "output_type": "execute_result"
    }
   ],
   "source": [
    "pred_training = esn.fit(X_train, y_train)\n",
    "pred_training"
   ]
  }
 ],
 "metadata": {
  "kernelspec": {
   "display_name": "Python 3",
   "language": "python",
   "name": "python3"
  },
  "language_info": {
   "codemirror_mode": {
    "name": "ipython",
    "version": 3
   },
   "file_extension": ".py",
   "mimetype": "text/x-python",
   "name": "python",
   "nbconvert_exporter": "python",
   "pygments_lexer": "ipython3",
   "version": "3.6.3"
  }
 },
 "nbformat": 4,
 "nbformat_minor": 2
}
